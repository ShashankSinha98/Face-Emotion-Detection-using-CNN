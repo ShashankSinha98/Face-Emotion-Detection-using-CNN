{
 "cells": [
  {
   "cell_type": "markdown",
   "metadata": {},
   "source": [
    "### 1. Importing Libraries"
   ]
  },
  {
   "cell_type": "code",
   "execution_count": 1,
   "metadata": {},
   "outputs": [
    {
     "name": "stderr",
     "output_type": "stream",
     "text": [
      "Using TensorFlow backend.\n"
     ]
    }
   ],
   "source": [
    "import keras\n",
    "from keras.preprocessing.image import ImageDataGenerator # for data augmentation\n",
    "from keras.models import Sequential\n",
    "from keras.layers import Dense, Dropout, Activation, Flatten, BatchNormalization\n",
    "from keras.layers import Conv2D, MaxPooling2D\n",
    "import os"
   ]
  },
  {
   "cell_type": "markdown",
   "metadata": {},
   "source": [
    "### 2. Data Preprocessing"
   ]
  },
  {
   "cell_type": "code",
   "execution_count": 2,
   "metadata": {},
   "outputs": [],
   "source": [
    "num_classes = 5 # Happy, Sad, Angry, Neutral, Surprise\n",
    "img_rows, img_cols = 48,48 # target img size\n",
    "batch_size = 32"
   ]
  },
  {
   "cell_type": "code",
   "execution_count": 3,
   "metadata": {},
   "outputs": [],
   "source": [
    "train_data_dir = \"train/\"\n",
    "validation_data_dir = \"validation/\""
   ]
  },
  {
   "cell_type": "code",
   "execution_count": 4,
   "metadata": {},
   "outputs": [],
   "source": [
    "train_data_gen = ImageDataGenerator(\n",
    "                    rescale=1./255, # rescaling img btw 0-1\n",
    "                    rotation_range=30,\n",
    "                    shear_range=0.3,\n",
    "                    zoom_range=0.3,\n",
    "                    width_shift_range=0.4,\n",
    "                    height_shift_range=0.4,\n",
    "                    horizontal_flip=True,\n",
    "                    fill_mode='nearest')"
   ]
  },
  {
   "cell_type": "code",
   "execution_count": 5,
   "metadata": {},
   "outputs": [],
   "source": [
    "validation_data_gen = ImageDataGenerator(rescale=1./255) # For tsting model while training, so only \n",
    "                                                         # rescaling is required"
   ]
  },
  {
   "cell_type": "code",
   "execution_count": 6,
   "metadata": {},
   "outputs": [
    {
     "name": "stdout",
     "output_type": "stream",
     "text": [
      "Found 24256 images belonging to 5 classes.\n"
     ]
    }
   ],
   "source": [
    "train_generator = train_data_gen.flow_from_directory(\n",
    "                        train_data_dir,\n",
    "                        color_mode='grayscale', # imgs are gray\n",
    "                        target_size=(img_rows,img_cols),\n",
    "                        batch_size=batch_size,\n",
    "                        class_mode='categorical', # 5 classes\n",
    "                        shuffle=True)"
   ]
  },
  {
   "cell_type": "code",
   "execution_count": 7,
   "metadata": {},
   "outputs": [
    {
     "name": "stdout",
     "output_type": "stream",
     "text": [
      "Found 3006 images belonging to 5 classes.\n"
     ]
    }
   ],
   "source": [
    "validation_generator = validation_data_gen.flow_from_directory(\n",
    "                        validation_data_dir,\n",
    "                        color_mode='grayscale', # imgs are gray\n",
    "                        target_size=(img_rows,img_cols),\n",
    "                        batch_size=batch_size,\n",
    "                        class_mode='categorical', # 5 classes\n",
    "                        shuffle=True)"
   ]
  },
  {
   "cell_type": "markdown",
   "metadata": {},
   "source": [
    "### 3. Model Architecture"
   ]
  },
  {
   "cell_type": "code",
   "execution_count": 8,
   "metadata": {},
   "outputs": [],
   "source": [
    "model = Sequential()"
   ]
  },
  {
   "cell_type": "code",
   "execution_count": 9,
   "metadata": {},
   "outputs": [],
   "source": [
    "# Block - 1\n",
    "\n",
    "model.add(Conv2D(filters=32,kernel_size=(3,3),padding='same',kernel_initializer='he_normal',\n",
    "                 input_shape=(img_rows,img_cols,1)))\n",
    "model.add(Activation('elu'))\n",
    "model.add(BatchNormalization())\n",
    "model.add(Conv2D(filters=32,kernel_size=(3,3),padding='same',kernel_initializer='he_normal'))\n",
    "model.add(Activation('elu'))\n",
    "model.add(BatchNormalization())\n",
    "model.add(MaxPooling2D(pool_size=(2,2)))\n",
    "model.add(Dropout(0.2))"
   ]
  },
  {
   "cell_type": "code",
   "execution_count": 10,
   "metadata": {},
   "outputs": [],
   "source": [
    "# Block - 2\n",
    "\n",
    "model.add(Conv2D(filters=64,kernel_size=(3,3),padding='same',kernel_initializer='he_normal'))\n",
    "model.add(Activation('elu'))\n",
    "model.add(BatchNormalization())\n",
    "model.add(Conv2D(filters=64,kernel_size=(3,3),padding='same',kernel_initializer='he_normal'))\n",
    "model.add(Activation('elu'))\n",
    "model.add(BatchNormalization())\n",
    "model.add(MaxPooling2D(pool_size=(2,2)))\n",
    "model.add(Dropout(0.2))"
   ]
  },
  {
   "cell_type": "code",
   "execution_count": 11,
   "metadata": {},
   "outputs": [],
   "source": [
    "# Block - 3\n",
    "\n",
    "model.add(Conv2D(filters=128,kernel_size=(3,3),padding='same',kernel_initializer='he_normal'))\n",
    "model.add(Activation('elu'))\n",
    "model.add(BatchNormalization())\n",
    "model.add(Conv2D(filters=128,kernel_size=(3,3),padding='same',kernel_initializer='he_normal'))\n",
    "model.add(Activation('elu'))\n",
    "model.add(BatchNormalization())\n",
    "model.add(MaxPooling2D(pool_size=(2,2)))\n",
    "model.add(Dropout(0.2))"
   ]
  },
  {
   "cell_type": "code",
   "execution_count": 12,
   "metadata": {},
   "outputs": [],
   "source": [
    "# Block - 4\n",
    "\n",
    "model.add(Conv2D(filters=256,kernel_size=(3,3),padding='same',kernel_initializer='he_normal'))\n",
    "model.add(Activation('elu'))\n",
    "model.add(BatchNormalization())\n",
    "model.add(Conv2D(filters=256,kernel_size=(3,3),padding='same',kernel_initializer='he_normal'))\n",
    "model.add(Activation('elu'))\n",
    "model.add(BatchNormalization())\n",
    "model.add(MaxPooling2D(pool_size=(2,2)))\n",
    "model.add(Dropout(0.2))"
   ]
  },
  {
   "cell_type": "code",
   "execution_count": 13,
   "metadata": {},
   "outputs": [],
   "source": [
    "# Block - 5\n",
    "\n",
    "model.add(Flatten())\n",
    "model.add(Dense(units=64,kernel_initializer='he_normal'))\n",
    "model.add(Activation('elu'))\n",
    "model.add(BatchNormalization())\n",
    "model.add(Dropout(0.5))"
   ]
  },
  {
   "cell_type": "code",
   "execution_count": 14,
   "metadata": {},
   "outputs": [],
   "source": [
    "# Block - 6\n",
    "\n",
    "model.add(Dense(units=64,kernel_initializer='he_normal'))\n",
    "model.add(Activation('elu'))\n",
    "model.add(BatchNormalization())\n",
    "model.add(Dropout(0.5))"
   ]
  },
  {
   "cell_type": "code",
   "execution_count": 15,
   "metadata": {},
   "outputs": [],
   "source": [
    "# Block - 7\n",
    "\n",
    "model.add(Dense(num_classes,kernel_initializer='he_normal'))\n",
    "model.add(Activation('softmax'))"
   ]
  },
  {
   "cell_type": "code",
   "execution_count": 16,
   "metadata": {},
   "outputs": [
    {
     "name": "stdout",
     "output_type": "stream",
     "text": [
      "Model: \"sequential_1\"\n",
      "_________________________________________________________________\n",
      "Layer (type)                 Output Shape              Param #   \n",
      "=================================================================\n",
      "conv2d_1 (Conv2D)            (None, 48, 48, 32)        320       \n",
      "_________________________________________________________________\n",
      "activation_1 (Activation)    (None, 48, 48, 32)        0         \n",
      "_________________________________________________________________\n",
      "batch_normalization_1 (Batch (None, 48, 48, 32)        128       \n",
      "_________________________________________________________________\n",
      "conv2d_2 (Conv2D)            (None, 48, 48, 32)        9248      \n",
      "_________________________________________________________________\n",
      "activation_2 (Activation)    (None, 48, 48, 32)        0         \n",
      "_________________________________________________________________\n",
      "batch_normalization_2 (Batch (None, 48, 48, 32)        128       \n",
      "_________________________________________________________________\n",
      "max_pooling2d_1 (MaxPooling2 (None, 24, 24, 32)        0         \n",
      "_________________________________________________________________\n",
      "dropout_1 (Dropout)          (None, 24, 24, 32)        0         \n",
      "_________________________________________________________________\n",
      "conv2d_3 (Conv2D)            (None, 24, 24, 64)        18496     \n",
      "_________________________________________________________________\n",
      "activation_3 (Activation)    (None, 24, 24, 64)        0         \n",
      "_________________________________________________________________\n",
      "batch_normalization_3 (Batch (None, 24, 24, 64)        256       \n",
      "_________________________________________________________________\n",
      "conv2d_4 (Conv2D)            (None, 24, 24, 64)        36928     \n",
      "_________________________________________________________________\n",
      "activation_4 (Activation)    (None, 24, 24, 64)        0         \n",
      "_________________________________________________________________\n",
      "batch_normalization_4 (Batch (None, 24, 24, 64)        256       \n",
      "_________________________________________________________________\n",
      "max_pooling2d_2 (MaxPooling2 (None, 12, 12, 64)        0         \n",
      "_________________________________________________________________\n",
      "dropout_2 (Dropout)          (None, 12, 12, 64)        0         \n",
      "_________________________________________________________________\n",
      "conv2d_5 (Conv2D)            (None, 12, 12, 128)       73856     \n",
      "_________________________________________________________________\n",
      "activation_5 (Activation)    (None, 12, 12, 128)       0         \n",
      "_________________________________________________________________\n",
      "batch_normalization_5 (Batch (None, 12, 12, 128)       512       \n",
      "_________________________________________________________________\n",
      "conv2d_6 (Conv2D)            (None, 12, 12, 128)       147584    \n",
      "_________________________________________________________________\n",
      "activation_6 (Activation)    (None, 12, 12, 128)       0         \n",
      "_________________________________________________________________\n",
      "batch_normalization_6 (Batch (None, 12, 12, 128)       512       \n",
      "_________________________________________________________________\n",
      "max_pooling2d_3 (MaxPooling2 (None, 6, 6, 128)         0         \n",
      "_________________________________________________________________\n",
      "dropout_3 (Dropout)          (None, 6, 6, 128)         0         \n",
      "_________________________________________________________________\n",
      "conv2d_7 (Conv2D)            (None, 6, 6, 256)         295168    \n",
      "_________________________________________________________________\n",
      "activation_7 (Activation)    (None, 6, 6, 256)         0         \n",
      "_________________________________________________________________\n",
      "batch_normalization_7 (Batch (None, 6, 6, 256)         1024      \n",
      "_________________________________________________________________\n",
      "conv2d_8 (Conv2D)            (None, 6, 6, 256)         590080    \n",
      "_________________________________________________________________\n",
      "activation_8 (Activation)    (None, 6, 6, 256)         0         \n",
      "_________________________________________________________________\n",
      "batch_normalization_8 (Batch (None, 6, 6, 256)         1024      \n",
      "_________________________________________________________________\n",
      "max_pooling2d_4 (MaxPooling2 (None, 3, 3, 256)         0         \n",
      "_________________________________________________________________\n",
      "dropout_4 (Dropout)          (None, 3, 3, 256)         0         \n",
      "_________________________________________________________________\n",
      "flatten_1 (Flatten)          (None, 2304)              0         \n",
      "_________________________________________________________________\n",
      "dense_1 (Dense)              (None, 64)                147520    \n",
      "_________________________________________________________________\n",
      "activation_9 (Activation)    (None, 64)                0         \n",
      "_________________________________________________________________\n",
      "batch_normalization_9 (Batch (None, 64)                256       \n",
      "_________________________________________________________________\n",
      "dropout_5 (Dropout)          (None, 64)                0         \n",
      "_________________________________________________________________\n",
      "dense_2 (Dense)              (None, 64)                4160      \n",
      "_________________________________________________________________\n",
      "activation_10 (Activation)   (None, 64)                0         \n",
      "_________________________________________________________________\n",
      "batch_normalization_10 (Batc (None, 64)                256       \n",
      "_________________________________________________________________\n",
      "dropout_6 (Dropout)          (None, 64)                0         \n",
      "_________________________________________________________________\n",
      "dense_3 (Dense)              (None, 5)                 325       \n",
      "_________________________________________________________________\n",
      "activation_11 (Activation)   (None, 5)                 0         \n",
      "=================================================================\n",
      "Total params: 1,328,037\n",
      "Trainable params: 1,325,861\n",
      "Non-trainable params: 2,176\n",
      "_________________________________________________________________\n"
     ]
    }
   ],
   "source": [
    "model.summary()"
   ]
  },
  {
   "cell_type": "markdown",
   "metadata": {},
   "source": [
    "### 4. Model Training"
   ]
  },
  {
   "cell_type": "code",
   "execution_count": 17,
   "metadata": {},
   "outputs": [],
   "source": [
    "from keras.optimizers import RMSprop,SGD,Adam\n",
    "from keras.callbacks import ModelCheckpoint, EarlyStopping, ReduceLROnPlateau"
   ]
  },
  {
   "cell_type": "code",
   "execution_count": 18,
   "metadata": {},
   "outputs": [],
   "source": [
    "checkpoint = ModelCheckpoint('Emotion_little_vgg.h5',\n",
    "                            monitor='val_loss',\n",
    "                            mode='min',\n",
    "                            save_best_only=True,\n",
    "                            verbose=1)"
   ]
  },
  {
   "cell_type": "code",
   "execution_count": 19,
   "metadata": {},
   "outputs": [],
   "source": [
    "earlystop = EarlyStopping(monitor='val_loss',\n",
    "                         min_delta=0,\n",
    "                         patience=9,\n",
    "                         verbose=1,\n",
    "                         restore_best_weights=True)"
   ]
  },
  {
   "cell_type": "code",
   "execution_count": 20,
   "metadata": {},
   "outputs": [],
   "source": [
    "reduce_lr = ReduceLROnPlateau(monitor='val_loss',\n",
    "                             factor=0.2,\n",
    "                             patience=3,\n",
    "                             verbose=1,\n",
    "                             min_delta=0.0001)"
   ]
  },
  {
   "cell_type": "code",
   "execution_count": 21,
   "metadata": {},
   "outputs": [],
   "source": [
    "callbacks = [earlystop,checkpoint,reduce_lr]"
   ]
  },
  {
   "cell_type": "code",
   "execution_count": 22,
   "metadata": {},
   "outputs": [],
   "source": [
    "model.compile(loss='categorical_crossentropy',optimizer=Adam(lr=0.001),metrics=['accuracy'])"
   ]
  },
  {
   "cell_type": "code",
   "execution_count": 23,
   "metadata": {},
   "outputs": [],
   "source": [
    "nb_train_samples = 24256\n",
    "nb_validation_samples = 3006\n",
    "epochs = 25"
   ]
  },
  {
   "cell_type": "code",
   "execution_count": 24,
   "metadata": {},
   "outputs": [
    {
     "name": "stdout",
     "output_type": "stream",
     "text": [
      "Epoch 1/25\n",
      "758/758 [==============================] - 1067s 1s/step - loss: 1.8533 - accuracy: 0.2428 - val_loss: 1.5016 - val_accuracy: 0.2930\n",
      "\n",
      "Epoch 00001: val_loss improved from inf to 1.50159, saving model to Emotion_little_vgg.h5\n",
      "Epoch 2/25\n",
      "758/758 [==============================] - 711s 939ms/step - loss: 1.5776 - accuracy: 0.2837 - val_loss: 1.6782 - val_accuracy: 0.3137\n",
      "\n",
      "Epoch 00002: val_loss did not improve from 1.50159\n",
      "Epoch 3/25\n",
      "758/758 [==============================] - 732s 965ms/step - loss: 1.5493 - accuracy: 0.3045 - val_loss: 1.6025 - val_accuracy: 0.2569\n",
      "\n",
      "Epoch 00003: val_loss did not improve from 1.50159\n",
      "Epoch 4/25\n",
      "758/758 [==============================] - 694s 916ms/step - loss: 1.5317 - accuracy: 0.3132 - val_loss: 1.4111 - val_accuracy: 0.3362\n",
      "\n",
      "Epoch 00004: val_loss improved from 1.50159 to 1.41108, saving model to Emotion_little_vgg.h5\n",
      "Epoch 5/25\n",
      "758/758 [==============================] - 729s 962ms/step - loss: 1.4704 - accuracy: 0.3509 - val_loss: 1.7782 - val_accuracy: 0.3954\n",
      "\n",
      "Epoch 00005: val_loss did not improve from 1.41108\n",
      "Epoch 6/25\n",
      "758/758 [==============================] - 8217s 11s/step - loss: 1.3852 - accuracy: 0.4028 - val_loss: 1.6208 - val_accuracy: 0.4328\n",
      "\n",
      "Epoch 00006: val_loss did not improve from 1.41108\n",
      "Epoch 7/25\n",
      "758/758 [==============================] - 847s 1s/step - loss: 1.2988 - accuracy: 0.4604 - val_loss: 1.1790 - val_accuracy: 0.4862\n",
      "\n",
      "Epoch 00007: val_loss improved from 1.41108 to 1.17900, saving model to Emotion_little_vgg.h5\n",
      "Epoch 8/25\n",
      "758/758 [==============================] - 703s 928ms/step - loss: 1.2330 - accuracy: 0.4920 - val_loss: 1.4654 - val_accuracy: 0.5296\n",
      "\n",
      "Epoch 00008: val_loss did not improve from 1.17900\n",
      "Epoch 9/25\n",
      "758/758 [==============================] - 801s 1s/step - loss: 1.1925 - accuracy: 0.5155 - val_loss: 1.4724 - val_accuracy: 0.5471\n",
      "\n",
      "Epoch 00009: val_loss did not improve from 1.17900\n",
      "Epoch 10/25\n",
      "758/758 [==============================] - 738s 973ms/step - loss: 1.1558 - accuracy: 0.5335 - val_loss: 0.9368 - val_accuracy: 0.5639\n",
      "\n",
      "Epoch 00010: val_loss improved from 1.17900 to 0.93679, saving model to Emotion_little_vgg.h5\n",
      "Epoch 11/25\n",
      "758/758 [==============================] - 761s 1s/step - loss: 1.1382 - accuracy: 0.5413 - val_loss: 1.0687 - val_accuracy: 0.5481\n",
      "\n",
      "Epoch 00011: val_loss did not improve from 0.93679\n",
      "Epoch 12/25\n",
      "758/758 [==============================] - 738s 974ms/step - loss: 1.1170 - accuracy: 0.5571 - val_loss: 0.7687 - val_accuracy: 0.5743\n",
      "\n",
      "Epoch 00012: val_loss improved from 0.93679 to 0.76866, saving model to Emotion_little_vgg.h5\n",
      "Epoch 13/25\n",
      "758/758 [==============================] - 694s 915ms/step - loss: 1.1026 - accuracy: 0.5584 - val_loss: 1.5143 - val_accuracy: 0.5817\n",
      "\n",
      "Epoch 00013: val_loss did not improve from 0.76866\n",
      "Epoch 14/25\n",
      "758/758 [==============================] - 725s 956ms/step - loss: 1.0803 - accuracy: 0.5692 - val_loss: 1.3877 - val_accuracy: 0.5847\n",
      "\n",
      "Epoch 00014: val_loss did not improve from 0.76866\n",
      "Epoch 15/25\n",
      "758/758 [==============================] - 708s 934ms/step - loss: 1.0666 - accuracy: 0.5782 - val_loss: 1.3497 - val_accuracy: 0.5773\n",
      "\n",
      "Epoch 00015: val_loss did not improve from 0.76866\n",
      "\n",
      "Epoch 00015: ReduceLROnPlateau reducing learning rate to 0.00020000000949949026.\n",
      "Epoch 16/25\n",
      "758/758 [==============================] - 958s 1s/step - loss: 1.0307 - accuracy: 0.5963 - val_loss: 0.8838 - val_accuracy: 0.5921\n",
      "\n",
      "Epoch 00016: val_loss did not improve from 0.76866\n",
      "Epoch 17/25\n",
      "758/758 [==============================] - 914s 1s/step - loss: 1.0123 - accuracy: 0.6046 - val_loss: 0.8628 - val_accuracy: 0.6103\n",
      "\n",
      "Epoch 00017: val_loss did not improve from 0.76866\n",
      "Epoch 18/25\n",
      "758/758 [==============================] - 885s 1s/step - loss: 1.0064 - accuracy: 0.6106 - val_loss: 1.3707 - val_accuracy: 0.5995\n",
      "\n",
      "Epoch 00018: val_loss did not improve from 0.76866\n",
      "\n",
      "Epoch 00018: ReduceLROnPlateau reducing learning rate to 4.0000001899898055e-05.\n",
      "Epoch 19/25\n",
      "758/758 [==============================] - 712s 940ms/step - loss: 0.9945 - accuracy: 0.6106 - val_loss: 1.1058 - val_accuracy: 0.6086\n",
      "\n",
      "Epoch 00019: val_loss did not improve from 0.76866\n",
      "Epoch 20/25\n",
      "758/758 [==============================] - 711s 938ms/step - loss: 0.9978 - accuracy: 0.6135 - val_loss: 1.2408 - val_accuracy: 0.5985\n",
      "\n",
      "Epoch 00020: val_loss did not improve from 0.76866\n",
      "Epoch 21/25\n",
      "758/758 [==============================] - 803s 1s/step - loss: 0.9879 - accuracy: 0.6201 - val_loss: 1.8376 - val_accuracy: 0.6063\n",
      "Restoring model weights from the end of the best epoch\n",
      "\n",
      "Epoch 00021: val_loss did not improve from 0.76866\n",
      "\n",
      "Epoch 00021: ReduceLROnPlateau reducing learning rate to 8.000000525498762e-06.\n",
      "Epoch 00021: early stopping\n"
     ]
    }
   ],
   "source": [
    "history = model.fit_generator(train_generator,\n",
    "                             steps_per_epoch=nb_train_samples//batch_size,\n",
    "                             epochs=epochs,\n",
    "                             callbacks=callbacks,\n",
    "                             validation_data=validation_generator,\n",
    "                             validation_steps=nb_validation_samples//batch_size)"
   ]
  },
  {
   "cell_type": "code",
   "execution_count": null,
   "metadata": {},
   "outputs": [],
   "source": []
  }
 ],
 "metadata": {
  "kernelspec": {
   "display_name": "Python 3",
   "language": "python",
   "name": "python3"
  },
  "language_info": {
   "codemirror_mode": {
    "name": "ipython",
    "version": 3
   },
   "file_extension": ".py",
   "mimetype": "text/x-python",
   "name": "python",
   "nbconvert_exporter": "python",
   "pygments_lexer": "ipython3",
   "version": "3.8.1"
  }
 },
 "nbformat": 4,
 "nbformat_minor": 4
}
